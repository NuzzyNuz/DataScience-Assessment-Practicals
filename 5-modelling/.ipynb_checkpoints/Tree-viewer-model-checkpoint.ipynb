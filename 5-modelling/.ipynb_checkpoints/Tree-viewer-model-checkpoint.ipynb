{
 "cells": [
  {
   "cell_type": "code",
   "execution_count": 1,
   "metadata": {},
   "outputs": [],
   "source": [
    "import pandas as pd\n",
    "import numpy as np\n",
    "import pydotplus\n",
    "from sklearn.datasets import load_iris\n",
    "from sklearn import tree"
   ]
  },
  {
   "cell_type": "code",
   "execution_count": 2,
   "metadata": {},
   "outputs": [],
   "source": [
    "data = pd.read_csv('emissions-vs-energy-use.csv')"
   ]
  },
  {
   "cell_type": "code",
   "execution_count": 3,
   "metadata": {},
   "outputs": [
    {
     "data": {
      "text/html": [
       "<div>\n",
       "<style scoped>\n",
       "    .dataframe tbody tr th:only-of-type {\n",
       "        vertical-align: middle;\n",
       "    }\n",
       "\n",
       "    .dataframe tbody tr th {\n",
       "        vertical-align: top;\n",
       "    }\n",
       "\n",
       "    .dataframe thead th {\n",
       "        text-align: right;\n",
       "    }\n",
       "</style>\n",
       "<table border=\"1\" class=\"dataframe\">\n",
       "  <thead>\n",
       "    <tr style=\"text-align: right;\">\n",
       "      <th></th>\n",
       "      <th>Federal organization</th>\n",
       "      <th>Fiscal year</th>\n",
       "      <th>GHG source</th>\n",
       "      <th>GHG scope</th>\n",
       "      <th>Energy category</th>\n",
       "      <th>Energy use (GJ)</th>\n",
       "      <th>Emissions (t)</th>\n",
       "    </tr>\n",
       "  </thead>\n",
       "  <tbody>\n",
       "    <tr>\n",
       "      <td>0</td>\n",
       "      <td>National Defence</td>\n",
       "      <td>FY 2005-06</td>\n",
       "      <td>facilities</td>\n",
       "      <td>1</td>\n",
       "      <td>Natural gas</td>\n",
       "      <td>5807777.17</td>\n",
       "      <td>288870.88</td>\n",
       "    </tr>\n",
       "    <tr>\n",
       "      <td>1</td>\n",
       "      <td>National Defence</td>\n",
       "      <td>FY 2005-06</td>\n",
       "      <td>facilities</td>\n",
       "      <td>1</td>\n",
       "      <td>Liquified petroleum gas</td>\n",
       "      <td>48244.37</td>\n",
       "      <td>2943.07</td>\n",
       "    </tr>\n",
       "    <tr>\n",
       "      <td>2</td>\n",
       "      <td>National Defence</td>\n",
       "      <td>FY 2005-06</td>\n",
       "      <td>facilities</td>\n",
       "      <td>1</td>\n",
       "      <td>Fuel oil (1, 2, 4, 5, 6, diesel, kerosene)</td>\n",
       "      <td>1305193.88</td>\n",
       "      <td>95389.11</td>\n",
       "    </tr>\n",
       "    <tr>\n",
       "      <td>3</td>\n",
       "      <td>National Defence</td>\n",
       "      <td>FY 2005-06</td>\n",
       "      <td>facilities</td>\n",
       "      <td>1</td>\n",
       "      <td>Aviation fuels</td>\n",
       "      <td>386973.38</td>\n",
       "      <td>26322.46</td>\n",
       "    </tr>\n",
       "    <tr>\n",
       "      <td>4</td>\n",
       "      <td>National Defence</td>\n",
       "      <td>FY 2005-06</td>\n",
       "      <td>facilities</td>\n",
       "      <td>2</td>\n",
       "      <td>Electricity</td>\n",
       "      <td>3533821.46</td>\n",
       "      <td>320839.25</td>\n",
       "    </tr>\n",
       "    <tr>\n",
       "      <td>...</td>\n",
       "      <td>...</td>\n",
       "      <td>...</td>\n",
       "      <td>...</td>\n",
       "      <td>...</td>\n",
       "      <td>...</td>\n",
       "      <td>...</td>\n",
       "      <td>...</td>\n",
       "    </tr>\n",
       "    <tr>\n",
       "      <td>779</td>\n",
       "      <td>Immigration, Refugees and Citizenship Canada</td>\n",
       "      <td>FY 2012-13</td>\n",
       "      <td>fleets</td>\n",
       "      <td>1</td>\n",
       "      <td>Fuels with renewable content</td>\n",
       "      <td>268.90</td>\n",
       "      <td>16.90</td>\n",
       "    </tr>\n",
       "    <tr>\n",
       "      <td>780</td>\n",
       "      <td>Immigration, Refugees and Citizenship Canada</td>\n",
       "      <td>FY 2013-14</td>\n",
       "      <td>fleets</td>\n",
       "      <td>1</td>\n",
       "      <td>Gasoline</td>\n",
       "      <td>640.19</td>\n",
       "      <td>41.02</td>\n",
       "    </tr>\n",
       "    <tr>\n",
       "      <td>781</td>\n",
       "      <td>Immigration, Refugees and Citizenship Canada</td>\n",
       "      <td>FY 2014-15</td>\n",
       "      <td>fleets</td>\n",
       "      <td>1</td>\n",
       "      <td>Gasoline</td>\n",
       "      <td>743.46</td>\n",
       "      <td>47.64</td>\n",
       "    </tr>\n",
       "    <tr>\n",
       "      <td>782</td>\n",
       "      <td>Immigration, Refugees and Citizenship Canada</td>\n",
       "      <td>FY 2015-16</td>\n",
       "      <td>fleets</td>\n",
       "      <td>1</td>\n",
       "      <td>Gasoline</td>\n",
       "      <td>846.41</td>\n",
       "      <td>54.24</td>\n",
       "    </tr>\n",
       "    <tr>\n",
       "      <td>783</td>\n",
       "      <td>Immigration, Refugees and Citizenship Canada</td>\n",
       "      <td>FY 2016-17</td>\n",
       "      <td>fleets</td>\n",
       "      <td>1</td>\n",
       "      <td>Gasoline</td>\n",
       "      <td>797.27</td>\n",
       "      <td>51.09</td>\n",
       "    </tr>\n",
       "  </tbody>\n",
       "</table>\n",
       "<p>784 rows × 7 columns</p>\n",
       "</div>"
      ],
      "text/plain": [
       "                             Federal organization Fiscal year  GHG source  \\\n",
       "0                                National Defence  FY 2005-06  facilities   \n",
       "1                                National Defence  FY 2005-06  facilities   \n",
       "2                                National Defence  FY 2005-06  facilities   \n",
       "3                                National Defence  FY 2005-06  facilities   \n",
       "4                                National Defence  FY 2005-06  facilities   \n",
       "..                                            ...         ...         ...   \n",
       "779  Immigration, Refugees and Citizenship Canada  FY 2012-13      fleets   \n",
       "780  Immigration, Refugees and Citizenship Canada  FY 2013-14      fleets   \n",
       "781  Immigration, Refugees and Citizenship Canada  FY 2014-15      fleets   \n",
       "782  Immigration, Refugees and Citizenship Canada  FY 2015-16      fleets   \n",
       "783  Immigration, Refugees and Citizenship Canada  FY 2016-17      fleets   \n",
       "\n",
       "     GHG scope                             Energy category  Energy use (GJ)  \\\n",
       "0            1                                 Natural gas       5807777.17   \n",
       "1            1                     Liquified petroleum gas         48244.37   \n",
       "2            1  Fuel oil (1, 2, 4, 5, 6, diesel, kerosene)       1305193.88   \n",
       "3            1                              Aviation fuels        386973.38   \n",
       "4            2                                 Electricity       3533821.46   \n",
       "..         ...                                         ...              ...   \n",
       "779          1                Fuels with renewable content           268.90   \n",
       "780          1                                    Gasoline           640.19   \n",
       "781          1                                    Gasoline           743.46   \n",
       "782          1                                    Gasoline           846.41   \n",
       "783          1                                    Gasoline           797.27   \n",
       "\n",
       "     Emissions (t)  \n",
       "0        288870.88  \n",
       "1          2943.07  \n",
       "2         95389.11  \n",
       "3         26322.46  \n",
       "4        320839.25  \n",
       "..             ...  \n",
       "779          16.90  \n",
       "780          41.02  \n",
       "781          47.64  \n",
       "782          54.24  \n",
       "783          51.09  \n",
       "\n",
       "[784 rows x 7 columns]"
      ]
     },
     "execution_count": 3,
     "metadata": {},
     "output_type": "execute_result"
    }
   ],
   "source": [
    "data"
   ]
  },
  {
   "cell_type": "code",
   "execution_count": 4,
   "metadata": {},
   "outputs": [],
   "source": [
    "x = data.iloc[:,[3,5,6]]"
   ]
  },
  {
   "cell_type": "code",
   "execution_count": 5,
   "metadata": {},
   "outputs": [
    {
     "data": {
      "text/html": [
       "<div>\n",
       "<style scoped>\n",
       "    .dataframe tbody tr th:only-of-type {\n",
       "        vertical-align: middle;\n",
       "    }\n",
       "\n",
       "    .dataframe tbody tr th {\n",
       "        vertical-align: top;\n",
       "    }\n",
       "\n",
       "    .dataframe thead th {\n",
       "        text-align: right;\n",
       "    }\n",
       "</style>\n",
       "<table border=\"1\" class=\"dataframe\">\n",
       "  <thead>\n",
       "    <tr style=\"text-align: right;\">\n",
       "      <th></th>\n",
       "      <th>GHG scope</th>\n",
       "      <th>Energy use (GJ)</th>\n",
       "      <th>Emissions (t)</th>\n",
       "    </tr>\n",
       "  </thead>\n",
       "  <tbody>\n",
       "    <tr>\n",
       "      <td>0</td>\n",
       "      <td>1</td>\n",
       "      <td>5807777.17</td>\n",
       "      <td>288870.88</td>\n",
       "    </tr>\n",
       "    <tr>\n",
       "      <td>1</td>\n",
       "      <td>1</td>\n",
       "      <td>48244.37</td>\n",
       "      <td>2943.07</td>\n",
       "    </tr>\n",
       "    <tr>\n",
       "      <td>2</td>\n",
       "      <td>1</td>\n",
       "      <td>1305193.88</td>\n",
       "      <td>95389.11</td>\n",
       "    </tr>\n",
       "    <tr>\n",
       "      <td>3</td>\n",
       "      <td>1</td>\n",
       "      <td>386973.38</td>\n",
       "      <td>26322.46</td>\n",
       "    </tr>\n",
       "    <tr>\n",
       "      <td>4</td>\n",
       "      <td>2</td>\n",
       "      <td>3533821.46</td>\n",
       "      <td>320839.25</td>\n",
       "    </tr>\n",
       "    <tr>\n",
       "      <td>...</td>\n",
       "      <td>...</td>\n",
       "      <td>...</td>\n",
       "      <td>...</td>\n",
       "    </tr>\n",
       "    <tr>\n",
       "      <td>779</td>\n",
       "      <td>1</td>\n",
       "      <td>268.90</td>\n",
       "      <td>16.90</td>\n",
       "    </tr>\n",
       "    <tr>\n",
       "      <td>780</td>\n",
       "      <td>1</td>\n",
       "      <td>640.19</td>\n",
       "      <td>41.02</td>\n",
       "    </tr>\n",
       "    <tr>\n",
       "      <td>781</td>\n",
       "      <td>1</td>\n",
       "      <td>743.46</td>\n",
       "      <td>47.64</td>\n",
       "    </tr>\n",
       "    <tr>\n",
       "      <td>782</td>\n",
       "      <td>1</td>\n",
       "      <td>846.41</td>\n",
       "      <td>54.24</td>\n",
       "    </tr>\n",
       "    <tr>\n",
       "      <td>783</td>\n",
       "      <td>1</td>\n",
       "      <td>797.27</td>\n",
       "      <td>51.09</td>\n",
       "    </tr>\n",
       "  </tbody>\n",
       "</table>\n",
       "<p>784 rows × 3 columns</p>\n",
       "</div>"
      ],
      "text/plain": [
       "     GHG scope  Energy use (GJ)  Emissions (t)\n",
       "0            1       5807777.17      288870.88\n",
       "1            1         48244.37        2943.07\n",
       "2            1       1305193.88       95389.11\n",
       "3            1        386973.38       26322.46\n",
       "4            2       3533821.46      320839.25\n",
       "..         ...              ...            ...\n",
       "779          1           268.90          16.90\n",
       "780          1           640.19          41.02\n",
       "781          1           743.46          47.64\n",
       "782          1           846.41          54.24\n",
       "783          1           797.27          51.09\n",
       "\n",
       "[784 rows x 3 columns]"
      ]
     },
     "execution_count": 5,
     "metadata": {},
     "output_type": "execute_result"
    }
   ],
   "source": [
    "x"
   ]
  },
  {
   "cell_type": "code",
   "execution_count": 6,
   "metadata": {},
   "outputs": [],
   "source": [
    "from sklearn.preprocessing import LabelEncoder"
   ]
  },
  {
   "cell_type": "code",
   "execution_count": 7,
   "metadata": {},
   "outputs": [],
   "source": [
    "labelencoder_x = LabelEncoder()"
   ]
  },
  {
   "cell_type": "code",
   "execution_count": 8,
   "metadata": {},
   "outputs": [],
   "source": [
    "x = x.apply(LabelEncoder().fit_transform)"
   ]
  },
  {
   "cell_type": "code",
   "execution_count": 9,
   "metadata": {},
   "outputs": [
    {
     "data": {
      "text/html": [
       "<div>\n",
       "<style scoped>\n",
       "    .dataframe tbody tr th:only-of-type {\n",
       "        vertical-align: middle;\n",
       "    }\n",
       "\n",
       "    .dataframe tbody tr th {\n",
       "        vertical-align: top;\n",
       "    }\n",
       "\n",
       "    .dataframe thead th {\n",
       "        text-align: right;\n",
       "    }\n",
       "</style>\n",
       "<table border=\"1\" class=\"dataframe\">\n",
       "  <thead>\n",
       "    <tr style=\"text-align: right;\">\n",
       "      <th></th>\n",
       "      <th>GHG scope</th>\n",
       "      <th>Energy use (GJ)</th>\n",
       "      <th>Emissions (t)</th>\n",
       "    </tr>\n",
       "  </thead>\n",
       "  <tbody>\n",
       "    <tr>\n",
       "      <td>0</td>\n",
       "      <td>0</td>\n",
       "      <td>766</td>\n",
       "      <td>753</td>\n",
       "    </tr>\n",
       "    <tr>\n",
       "      <td>1</td>\n",
       "      <td>0</td>\n",
       "      <td>495</td>\n",
       "      <td>480</td>\n",
       "    </tr>\n",
       "    <tr>\n",
       "      <td>2</td>\n",
       "      <td>0</td>\n",
       "      <td>745</td>\n",
       "      <td>741</td>\n",
       "    </tr>\n",
       "    <tr>\n",
       "      <td>3</td>\n",
       "      <td>0</td>\n",
       "      <td>699</td>\n",
       "      <td>695</td>\n",
       "    </tr>\n",
       "    <tr>\n",
       "      <td>4</td>\n",
       "      <td>1</td>\n",
       "      <td>761</td>\n",
       "      <td>759</td>\n",
       "    </tr>\n",
       "    <tr>\n",
       "      <td>...</td>\n",
       "      <td>...</td>\n",
       "      <td>...</td>\n",
       "      <td>...</td>\n",
       "    </tr>\n",
       "    <tr>\n",
       "      <td>779</td>\n",
       "      <td>0</td>\n",
       "      <td>97</td>\n",
       "      <td>93</td>\n",
       "    </tr>\n",
       "    <tr>\n",
       "      <td>780</td>\n",
       "      <td>0</td>\n",
       "      <td>126</td>\n",
       "      <td>119</td>\n",
       "    </tr>\n",
       "    <tr>\n",
       "      <td>781</td>\n",
       "      <td>0</td>\n",
       "      <td>131</td>\n",
       "      <td>124</td>\n",
       "    </tr>\n",
       "    <tr>\n",
       "      <td>782</td>\n",
       "      <td>0</td>\n",
       "      <td>139</td>\n",
       "      <td>134</td>\n",
       "    </tr>\n",
       "    <tr>\n",
       "      <td>783</td>\n",
       "      <td>0</td>\n",
       "      <td>134</td>\n",
       "      <td>128</td>\n",
       "    </tr>\n",
       "  </tbody>\n",
       "</table>\n",
       "<p>784 rows × 3 columns</p>\n",
       "</div>"
      ],
      "text/plain": [
       "     GHG scope  Energy use (GJ)  Emissions (t)\n",
       "0            0              766            753\n",
       "1            0              495            480\n",
       "2            0              745            741\n",
       "3            0              699            695\n",
       "4            1              761            759\n",
       "..         ...              ...            ...\n",
       "779          0               97             93\n",
       "780          0              126            119\n",
       "781          0              131            124\n",
       "782          0              139            134\n",
       "783          0              134            128\n",
       "\n",
       "[784 rows x 3 columns]"
      ]
     },
     "execution_count": 9,
     "metadata": {},
     "output_type": "execute_result"
    }
   ],
   "source": [
    "x"
   ]
  },
  {
   "cell_type": "code",
   "execution_count": 10,
   "metadata": {},
   "outputs": [],
   "source": [
    "from sklearn.tree import DecisionTreeClassifier"
   ]
  },
  {
   "cell_type": "code",
   "execution_count": 11,
   "metadata": {},
   "outputs": [],
   "source": [
    "regressor = DecisionTreeClassifier()"
   ]
  },
  {
   "cell_type": "code",
   "execution_count": 12,
   "metadata": {},
   "outputs": [],
   "source": [
    "y = data.iloc[:,2]"
   ]
  },
  {
   "cell_type": "code",
   "execution_count": 13,
   "metadata": {},
   "outputs": [
    {
     "data": {
      "text/plain": [
       "0      facilities\n",
       "1      facilities\n",
       "2      facilities\n",
       "3      facilities\n",
       "4      facilities\n",
       "          ...    \n",
       "779        fleets\n",
       "780        fleets\n",
       "781        fleets\n",
       "782        fleets\n",
       "783        fleets\n",
       "Name: GHG source, Length: 784, dtype: object"
      ]
     },
     "execution_count": 13,
     "metadata": {},
     "output_type": "execute_result"
    }
   ],
   "source": [
    "y"
   ]
  },
  {
   "cell_type": "code",
   "execution_count": 14,
   "metadata": {},
   "outputs": [
    {
     "data": {
      "text/plain": [
       "DecisionTreeClassifier(class_weight=None, criterion='gini', max_depth=None,\n",
       "                       max_features=None, max_leaf_nodes=None,\n",
       "                       min_impurity_decrease=0.0, min_impurity_split=None,\n",
       "                       min_samples_leaf=1, min_samples_split=2,\n",
       "                       min_weight_fraction_leaf=0.0, presort=False,\n",
       "                       random_state=None, splitter='best')"
      ]
     },
     "execution_count": 14,
     "metadata": {},
     "output_type": "execute_result"
    }
   ],
   "source": [
    "regressor.fit(x.iloc[:,0:3],y)"
   ]
  },
  {
   "cell_type": "code",
   "execution_count": 15,
   "metadata": {},
   "outputs": [],
   "source": [
    "x_in = np.array([0,854,846])"
   ]
  },
  {
   "cell_type": "code",
   "execution_count": 16,
   "metadata": {},
   "outputs": [],
   "source": [
    "y_prediction = regressor.predict([x_in])"
   ]
  },
  {
   "cell_type": "code",
   "execution_count": 17,
   "metadata": {},
   "outputs": [
    {
     "data": {
      "text/plain": [
       "array(['facilities'], dtype=object)"
      ]
     },
     "execution_count": 17,
     "metadata": {},
     "output_type": "execute_result"
    }
   ],
   "source": [
    "y_prediction"
   ]
  },
  {
   "cell_type": "code",
   "execution_count": 18,
   "metadata": {},
   "outputs": [
    {
     "name": "stderr",
     "output_type": "stream",
     "text": [
      "C:\\Users\\nuzra\\Anaconda3\\lib\\site-packages\\sklearn\\externals\\six.py:31: DeprecationWarning: The module is deprecated in version 0.21 and will be removed in version 0.23 since we've dropped support for Python 2.7. Please rely on the official version of six (https://pypi.org/project/six/).\n",
      "  \"(https://pypi.org/project/six/).\", DeprecationWarning)\n"
     ]
    }
   ],
   "source": [
    "from sklearn.externals.six import StringIO"
   ]
  },
  {
   "cell_type": "code",
   "execution_count": 19,
   "metadata": {},
   "outputs": [],
   "source": [
    "from IPython.display import Image"
   ]
  },
  {
   "cell_type": "code",
   "execution_count": 20,
   "metadata": {},
   "outputs": [],
   "source": [
    "from sklearn. tree import export_graphviz"
   ]
  },
  {
   "cell_type": "code",
   "execution_count": 21,
   "metadata": {},
   "outputs": [],
   "source": [
    "import pydotplus"
   ]
  },
  {
   "cell_type": "code",
   "execution_count": 22,
   "metadata": {},
   "outputs": [],
   "source": [
    "dot_data = StringIO()"
   ]
  },
  {
   "cell_type": "code",
   "execution_count": 23,
   "metadata": {},
   "outputs": [],
   "source": [
    "export_graphviz(regressor, out_file = dot_data, filled = True,rounded=True,special_characters = True)"
   ]
  },
  {
   "cell_type": "code",
   "execution_count": 24,
   "metadata": {},
   "outputs": [],
   "source": [
    "graph = pydotplus.graph_from_dot_data(dot_data.getvalue())"
   ]
  },
  {
   "cell_type": "code",
   "execution_count": 25,
   "metadata": {},
   "outputs": [
    {
     "data": {
      "text/plain": [
       "True"
      ]
     },
     "execution_count": 25,
     "metadata": {},
     "output_type": "execute_result"
    }
   ],
   "source": [
    "graph.write_png('treeViewer.png')"
   ]
  },
  {
   "cell_type": "code",
   "execution_count": null,
   "metadata": {},
   "outputs": [],
   "source": []
  }
 ],
 "metadata": {
  "kernelspec": {
   "display_name": "Python 3",
   "language": "python",
   "name": "python3"
  },
  "language_info": {
   "codemirror_mode": {
    "name": "ipython",
    "version": 3
   },
   "file_extension": ".py",
   "mimetype": "text/x-python",
   "name": "python",
   "nbconvert_exporter": "python",
   "pygments_lexer": "ipython3",
   "version": "3.7.4"
  }
 },
 "nbformat": 4,
 "nbformat_minor": 2
}
